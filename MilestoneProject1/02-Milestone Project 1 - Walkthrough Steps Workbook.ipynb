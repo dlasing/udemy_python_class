{
 "cells": [
  {
   "cell_type": "markdown",
   "metadata": {},
   "source": [
    "# Milestone Project 1: Walkthrough Steps Workbook\n",
    "\n",
    "Below is a set of steps for you to follow to try to create the Tic Tac Toe Milestone Project game!"
   ]
  },
  {
   "cell_type": "markdown",
   "metadata": {},
   "source": [
    "#### Some suggested tools before you get started:\n",
    "To take input from a user:\n",
    "\n",
    "    player1 = input(\"Please pick a marker 'X' or 'O'\")\n",
    "    \n",
    "Note that input() takes in a string. If you need an integer value, use\n",
    "\n",
    "    position = int(input('Please enter a number'))\n",
    "    \n",
    "<br>To clear the screen between moves:\n",
    "\n",
    "    from IPython.display import clear_output\n",
    "    clear_output()\n",
    "    \n",
    "Note that clear_output() will only work in jupyter. To clear the screen in other IDEs, consider:\n",
    "\n",
    "    print('\\n'*100)\n",
    "    \n",
    "This scrolls the previous board up out of view. Now on to the program!"
   ]
  },
  {
   "cell_type": "markdown",
   "metadata": {},
   "source": [
    "**Step 1: Write a function that can print out a board. Set up your board as a list, where each index 1-9 corresponds with a number on a number pad, so you get a 3 by 3 board representation.**"
   ]
  },
  {
   "cell_type": "code",
   "execution_count": 1,
   "metadata": {},
   "outputs": [],
   "source": [
    "from IPython.display import clear_output\n",
    "\n",
    "def display_board(board):\n",
    "\n",
    "\tprint ('   |   |   \\n'   \\\n",
    "\t       f' {board[7]} | {board[8]} | {board[9]}   \\n'   \\\n",
    "\t       '   |   |   \\n'   \\\n",
    "\t       '-----------\\n'   \\\n",
    "\t       '   |   |   \\n'   \\\n",
    "\t       f' {board[4]} | {board[5]} | {board[6]}   \\n'   \\\n",
    "\t       '   |   |   \\n'   \\\n",
    "\t       '-----------\\n'   \\\n",
    "\t       '   |   |   \\n'   \\\n",
    "\t       f' {board[1]} | {board[2]} | {board[3]}   \\n'   \\\n",
    "\t       '   |   |   \\n')\n",
    "\t\n",
    "\n"
   ]
  },
  {
   "cell_type": "markdown",
   "metadata": {},
   "source": [
    "**TEST Step 1:** run your function on a test version of the board list, and make adjustments as necessary"
   ]
  },
  {
   "cell_type": "code",
   "execution_count": 2,
   "metadata": {},
   "outputs": [
    {
     "name": "stdout",
     "output_type": "stream",
     "text": [
      "   |   |   \n",
      " X | O | X   \n",
      "   |   |   \n",
      "-----------\n",
      "   |   |   \n",
      " O | X | O   \n",
      "   |   |   \n",
      "-----------\n",
      "   |   |   \n",
      " X | O | X   \n",
      "   |   |   \n",
      "\n"
     ]
    }
   ],
   "source": [
    "test_board = ['#','X','O','X','O','X','O','X','O','X']\n",
    "display_board(test_board)"
   ]
  },
  {
   "cell_type": "markdown",
   "metadata": {},
   "source": [
    "**Step 2: Write a function that can take in a player input and assign their marker as 'X' or 'O'. Think about using *while* loops to continually ask until you get a correct answer.**"
   ]
  },
  {
   "cell_type": "code",
   "execution_count": 7,
   "metadata": {},
   "outputs": [],
   "source": [
    "def player_input():\n",
    "\tplayer_list = [\"?\", \"?\"]\n",
    "\t\n",
    "\t\n",
    "\twhile player_list[0] != 'X' or player_list[0] != \"O\":\n",
    "\t\tplayer_list[0] = input(\"Please pick a marker 'X' or 'O' \")\n",
    "\t\t\n",
    "\t\tif player_list[0] == \"X\":\n",
    "\t\t\tplayer_list[1] = \"O\"\n",
    "\t\t\treturn player_list\n",
    "\t\t\tbreak\n",
    "\t\tif player_list[0] == \"O\":\n",
    "\t\t\tplayer_list[1] = \"X\"\n",
    "\t\t\treturn player_list\n",
    "\t\t\tbreak\n",
    "\t\t\t"
   ]
  },
  {
   "cell_type": "markdown",
   "metadata": {},
   "source": [
    "**TEST Step 2:** run the function to make sure it returns the desired output"
   ]
  },
  {
   "cell_type": "code",
   "execution_count": 12,
   "metadata": {},
   "outputs": [
    {
     "name": "stdout",
     "output_type": "stream",
     "text": [
      "Please pick a marker 'X' or 'O' X\n"
     ]
    },
    {
     "data": {
      "text/plain": [
       "['X', 'O']"
      ]
     },
     "execution_count": 12,
     "metadata": {},
     "output_type": "execute_result"
    }
   ],
   "source": [
    "player_input()\n"
   ]
  },
  {
   "cell_type": "markdown",
   "metadata": {},
   "source": [
    "**Step 3: Write a function that takes in the board list object, a marker ('X' or 'O'), and a desired position (number 1-9) and assigns it to the board.**"
   ]
  },
  {
   "cell_type": "code",
   "execution_count": 13,
   "metadata": {},
   "outputs": [],
   "source": [
    "def place_marker(board, marker, position):\n",
    "\t\n",
    "\t# Assign the board list with new position\n",
    "\tboard[position] = marker\n",
    "\treturn board\n",
    "\n"
   ]
  },
  {
   "cell_type": "markdown",
   "metadata": {},
   "source": [
    "**TEST Step 3:** run the place marker function using test parameters and display the modified board"
   ]
  },
  {
   "cell_type": "code",
   "execution_count": 14,
   "metadata": {},
   "outputs": [
    {
     "name": "stdout",
     "output_type": "stream",
     "text": [
      "   |   |   \n",
      " X | $ | X   \n",
      "   |   |   \n",
      "-----------\n",
      "   |   |   \n",
      " O | X | O   \n",
      "   |   |   \n",
      "-----------\n",
      "   |   |   \n",
      " X | O | X   \n",
      "   |   |   \n",
      "\n"
     ]
    }
   ],
   "source": [
    "place_marker(test_board,'$',8)\n",
    "display_board(test_board)"
   ]
  },
  {
   "cell_type": "markdown",
   "metadata": {},
   "source": [
    "**Step 4: Write a function that takes in a board and a mark (X or O) and then checks to see if that mark has won. **"
   ]
  },
  {
   "cell_type": "code",
   "execution_count": 16,
   "metadata": {},
   "outputs": [],
   "source": [
    "def win_check(board, mark):\n",
    "\t\n",
    "\tcheck_list = [0,1,2,3,4,5,6,7,8,9,1,4,7,2,5,8,3,6,9,3,5,7,1,5,9]\n",
    "\tcounter = 0\n",
    "\t\n",
    "\tfor item in range(1,9):\n",
    "\t\t\n",
    "\t\t#print (f'Checking... {check_list[1+counter]}, {check_list[2+counter]}, {check_list[3+counter]}')\n",
    "\t\tif board[check_list[1+counter]] == board[check_list[2+counter]] == board[check_list[3+counter]] == mark:\n",
    "\t\t\t\n",
    "\t\t\t\n",
    "\t\t\t#print (f\"Marker: {mark} WON\")\n",
    "\t\t\tcounter+=3\n",
    "\t\t\treturn True\n",
    "\t\t\n",
    "\t\telse:\t\n",
    "\t\t\tcounter+=3\n",
    "\n"
   ]
  },
  {
   "cell_type": "markdown",
   "metadata": {},
   "source": [
    "**TEST Step 4:** run the win_check function against our test_board - it should return True"
   ]
  },
  {
   "cell_type": "code",
   "execution_count": 17,
   "metadata": {},
   "outputs": [
    {
     "name": "stdout",
     "output_type": "stream",
     "text": [
      "Marker: X WON\n"
     ]
    },
    {
     "data": {
      "text/plain": [
       "True"
      ]
     },
     "execution_count": 17,
     "metadata": {},
     "output_type": "execute_result"
    }
   ],
   "source": [
    "win_check(test_board,'X')"
   ]
  },
  {
   "cell_type": "markdown",
   "metadata": {},
   "source": [
    "**Step 5: Write a function that uses the random module to randomly decide which player goes first. You may want to lookup random.randint() Return a string of which player went first.**"
   ]
  },
  {
   "cell_type": "code",
   "execution_count": 18,
   "metadata": {},
   "outputs": [],
   "source": [
    "import random\n",
    "\n",
    "def choose_first():\n",
    "    player = random.randint(0,1)\n",
    "    return player\n",
    "    "
   ]
  },
  {
   "cell_type": "markdown",
   "metadata": {},
   "source": [
    "**Step 6: Write a function that returns a boolean indicating whether a space on the board is freely available.**"
   ]
  },
  {
   "cell_type": "code",
   "execution_count": 19,
   "metadata": {},
   "outputs": [],
   "source": [
    "def space_check(board, position):\n",
    "\t\n",
    "\treturn board[position] == ' '\n",
    "\t\t\t"
   ]
  },
  {
   "cell_type": "markdown",
   "metadata": {},
   "source": [
    "**Step 7: Write a function that checks if the board is full and returns a boolean value. True if full, False otherwise.**"
   ]
  },
  {
   "cell_type": "code",
   "execution_count": 20,
   "metadata": {},
   "outputs": [],
   "source": [
    "def full_board_check(board):\n",
    "\t\n",
    "\tfor item in range(1,10):\n",
    "\t\tif board[item] == \"\":\n",
    "\t\t\t#Return False if \"\" found\n",
    "\t\t\treturn False\n",
    "\t \t\n",
    "\t# Return True if no \"\" found\n",
    "\treturn True\t"
   ]
  },
  {
   "cell_type": "markdown",
   "metadata": {},
   "source": [
    "**Step 8: Write a function that asks for a player's next position (as a number 1-9) and then uses the function from step 6 to check if it's a free position. If it is, then return the position for later use.**"
   ]
  },
  {
   "cell_type": "code",
   "execution_count": null,
   "metadata": {},
   "outputs": [],
   "source": [
    "def player_choice(board):\n",
    "\t\n",
    "\tposition = input (\"Please enter your position [1-9]\")\n",
    "\t\n",
    "\tif space_check(board, position) == True:\n",
    "\t\treturn position\n",
    "\t\t"
   ]
  },
  {
   "cell_type": "markdown",
   "metadata": {},
   "source": [
    "**Step 9: Write a function that asks the player if they want to play again and returns a boolean True if they do want to play again.**"
   ]
  },
  {
   "cell_type": "code",
   "execution_count": 21,
   "metadata": {},
   "outputs": [],
   "source": [
    "def replay():\n",
    "\t\n",
    "\tplay_again = \"\"\n",
    "\t\n",
    "\twhile play_again != \"N\" or play_again != \"Y\":\n",
    "\t\tplay_again = input (\"Do you want to play again? [Y/N]\")\n",
    "\t\treturn play_again == \"Y\""
   ]
  },
  {
   "cell_type": "markdown",
   "metadata": {
    "collapsed": true
   },
   "source": [
    "**Step 10: Here comes the hard part! Use while loops and the functions you've made to run the game!**"
   ]
  },
  {
   "cell_type": "code",
   "execution_count": null,
   "metadata": {},
   "outputs": [],
   "source": [
    "import random\n",
    "\n",
    "\n",
    "\n",
    "def display_board(board):\n",
    "\tprint ('\\n'*100)\n",
    "\t\n",
    "\tprint ('   |   |   \\n'   \\\n",
    "\t       f' {board[7]} | {board[8]} | {board[9]}   \\n'   \\\n",
    "\t       '   |   |   \\n'   \\\n",
    "\t       '-----------\\n'   \\\n",
    "\t       '   |   |   \\n'   \\\n",
    "\t       f' {board[4]} | {board[5]} | {board[6]}   \\n'   \\\n",
    "\t       '   |   |   \\n'   \\\n",
    "\t       '-----------\\n'   \\\n",
    "\t       '   |   |   \\n'   \\\n",
    "\t       f' {board[1]} | {board[2]} | {board[3]}   \\n'   \\\n",
    "\t       '   |   |   \\n')\n",
    "\t\n",
    "\n",
    "\n",
    "\n",
    "def player_input():\t\n",
    "\tplayer_list = [\"?\", \"?\"]\n",
    "\t\n",
    "\twhile player_list[0] != 'X' or player_list[0] != \"O\":\n",
    "\t\tplayer_list[0] = input(\"Player1: Please pick a marker 'X' or 'O' \")\n",
    "\t\t\n",
    "\t\tif player_list[0] == \"X\":\n",
    "\t\t\tplayer_list[1] = \"O\"\n",
    "\t\t\treturn player_list\n",
    "\t\t\tbreak\n",
    "\t\t\t\n",
    "\t\tif player_list[0] == \"O\":\n",
    "\t\t\tplayer_list[1] = \"X\"\n",
    "\t\t\treturn player_list\n",
    "\t\t\tbreak\n",
    "\t\t\t\n",
    "\t\t\t\n",
    "\n",
    "def place_marker(board, marker, position):\t\n",
    "\t# Assign the board list with new position\n",
    "\tboard[position] = marker\n",
    "\treturn board\n",
    "\n",
    "\t\t\n",
    "def win_check(board, mark):\t\n",
    "\t# A list to check all possible winning matrix\n",
    "\tcheck_list = [0,1,2,3,4,5,6,7,8,9,1,4,7,2,5,8,3,6,9,3,5,7,1,5,9]\n",
    "\tcounter = 0\n",
    "\t\n",
    "\tfor item in range(1,9):\n",
    "\t\t\n",
    "\t\tif board[check_list[1+counter]] == board[check_list[2+counter]] == board[check_list[3+counter]] == mark:\t\t\t\t\n",
    "\t\t\tprint (f\"Yeah! You just won the game!\")\n",
    "\t\t\tcounter+=3\n",
    "\t\t\treturn True\t\t\n",
    "\t\telse:\t\n",
    "\t\t\tcounter+=3\n",
    "\t\n",
    "\t\n",
    "\t\t\t\n",
    "def choose_first():\n",
    "\tplayer = random.randint(0,1)\n",
    "\treturn player\t\t\t\n",
    "\t\t\t\n",
    "\n",
    "def space_check(board, position):\t\n",
    "\t\tif board[position] == ' ':\n",
    "\t\t\treturn True\n",
    "\t\telse:\n",
    "\t\t\treturn False\n",
    "\t\t\t\n",
    "\t\t\t\n",
    "\t\t\t\n",
    "def full_board_check(board):\n",
    "\t\n",
    "\tfor item in range(1,10):\n",
    "\t\tif board[item] == \" \":\n",
    "\t\t\t#Return False if \"\" found\n",
    "\t\t\treturn False\n",
    "\t \t\n",
    "\t# Return True if no \"\" found\n",
    "\treturn True\t\t\t\t\n",
    "\t\t\t\n",
    "\t\t\t\n",
    "\t\t\t\n",
    "def player_choice(board):\n",
    "\tposition = 0\n",
    "\t\n",
    "\twhile position < 1:\n",
    "\t\tposition = int(input (\"Please enter your position [1-9]  \"))\n",
    "\t\n",
    "\t\t# If the position is taken\n",
    "\t\tif position > 9 or space_check(board, position) == False :\n",
    "\t\t\t#Reset position\n",
    "\t\t\tposition = 0\n",
    "\t\n",
    "\treturn position\n",
    "\t\n",
    "\t\t\t\t\n",
    "\t\t\n",
    "def replay():\t\n",
    "\tplay_again = \"\"\n",
    "\t\n",
    "\twhile play_again != \"N\" or play_again != \"Y\":\n",
    "\t\tplay_again = input (\"Do you want to play again? [Y/N]\")\n",
    "\t\treturn play_again == \"Y\"\n",
    "\t\t\n",
    "\t\n",
    "\t\n",
    "def ready_to_play():\n",
    "\tyesno = \"Yes\"\n",
    "\t\n",
    "\twhile yesno != \"Yes\" or yesno != \"No\":\n",
    "\t\tyesno = input ('Are you ready to play? Enter Yes or No\\n')\n",
    "\t\tif yesno == \"Yes\":\n",
    "\t\t\treturn True\n",
    "\t\telse:\n",
    "\t\t\treturn False\n",
    "\t\t\t\n",
    "\t\t\t\t\n",
    " \n",
    "\t\n",
    "\t\n",
    "\t\n",
    "\t\n",
    "print (\"Welcome to Tic Tac Toe!\")\t\n",
    "playagain = True\n",
    "\n",
    "while playagain == True:\n",
    "\t# Start the Tic Tac Toe game\n",
    "\tmarker = player_input()\n",
    "\tprint (f'Player 1 is: {marker[0]}')\n",
    "\tprint (f'Player 2 is: {marker[1]}\\n')\t\n",
    "\t\n",
    "\t# Random pick which player will play first\n",
    "\twho_is_first = choose_first()\n",
    "\tprint (f'Player {who_is_first+1} will go first')\n",
    "\t\n",
    "\tready_to_play()\n",
    "\t\n",
    "\t#Reset the board entry\n",
    "\tplay_board = ['#',' ',' ',' ',' ',' ',' ',' ',' ',' ']\n",
    "\t\n",
    "\twhile full_board_check(play_board) == False:\n",
    "\t\tdisplay_board(play_board)\n",
    "\t\t# Mark to the board\n",
    "\t\tplay_board[player_choice(play_board)] = marker[who_is_first]\n",
    "\t\tdisplay_board(play_board)\n",
    "\t\t\n",
    "\t\t# Any Winner ? \n",
    "\t\tif win_check(play_board, marker[who_is_first]) == True:\n",
    "\t\t\tbreak\n",
    "\t\t\n",
    "\t\t# Step to switch player\n",
    "\t\tif who_is_first == 0:\n",
    "\t\t\twho_is_first = 1\n",
    "\t\telse:\n",
    "\t\t\twho_is_first = 0\n",
    "\t\t\t\n",
    "\tplayagain = replay()\n",
    "\t\n",
    "\n",
    "\t\n"
   ]
  },
  {
   "cell_type": "markdown",
   "metadata": {
    "collapsed": true
   },
   "source": [
    "## Good Job!"
   ]
  }
 ],
 "metadata": {
  "kernelspec": {
   "display_name": "Python 3",
   "language": "python",
   "name": "python3"
  },
  "language_info": {
   "codemirror_mode": {
    "name": "ipython",
    "version": 3
   },
   "file_extension": ".py",
   "mimetype": "text/x-python",
   "name": "python",
   "nbconvert_exporter": "python",
   "pygments_lexer": "ipython3",
   "version": "3.6.5"
  }
 },
 "nbformat": 4,
 "nbformat_minor": 1
}
